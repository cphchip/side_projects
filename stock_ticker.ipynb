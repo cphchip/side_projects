{
 "cells": [
  {
   "cell_type": "code",
   "execution_count": 1,
   "metadata": {},
   "outputs": [],
   "source": [
    "import yfinance as yf\n",
    "import pandas as pd\n",
    "import matplotlib.pyplot as plt\n",
    "import mplfinance as mpf"
   ]
  },
  {
   "cell_type": "code",
   "execution_count": 2,
   "metadata": {},
   "outputs": [],
   "source": [
    "# Hold list of ticker symbols\n",
    "portfolio = [\n",
    "    'VOO', \n",
    "    'ARKK', \n",
    "    'EZBC',\n",
    "    'FBTC', \n",
    "    'LMT'\n",
    "]\n",
    "\n",
    "# Function collects data for each portfoio item and plots it\n",
    "def candle(symbols, period):\n",
    "    # Provide ticker symbols and most recent period using -(days)\n",
    "    for ticker in symbols:\n",
    "        ticker_data = yf.Ticker(ticker)\n",
    "        ticker_df = ticker_data.history(period=\"max\")\n",
    "        yahoo_dark_style = mpf.make_mpf_style(\n",
    "            base_mpf_style='yahoo', \n",
    "            gridstyle='dotted',\n",
    "            facecolor='black',\n",
    "            edgecolor = 'black'\n",
    "        )\n",
    "        # yahoo_dark_style['edgecolor'] = 'black' # black edges\n",
    "        # yahoo_dark_style['font.color'] = 'white'\n",
    "\n",
    "\n",
    "        mpf.plot(\n",
    "            ticker_df[period:],\n",
    "            volume=True,\n",
    "            style=yahoo_dark_style,\n",
    "            # style='nightclouds',\n",
    "            # style='yahoo',\n",
    "            type='candle',\n",
    "            title=ticker,\n",
    "            mav=(25),\n",
    "            figratio=(5,3),\n",
    "            figscale=1.75\n",
    "            # style=\n",
    "        )\n",
    "    \n",
    "    return\n"
   ]
  },
  {
   "cell_type": "code",
   "execution_count": 3,
   "metadata": {},
   "outputs": [],
   "source": [
    "candle(portfolio, -100) # negative plots most recent data"
   ]
  }
 ],
 "metadata": {
  "kernelspec": {
   "display_name": "stock_env",
   "language": "python",
   "name": "python3"
  },
  "language_info": {
   "codemirror_mode": {
    "name": "ipython",
    "version": 3
   },
   "file_extension": ".py",
   "mimetype": "text/x-python",
   "name": "python",
   "nbconvert_exporter": "python",
   "pygments_lexer": "ipython3",
   "version": "3.9.18"
  }
 },
 "nbformat": 4,
 "nbformat_minor": 2
}
